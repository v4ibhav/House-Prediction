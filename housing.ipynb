{
 "cells": [
  {
   "cell_type": "markdown",
   "metadata": {},
   "source": [
    "# 1. Data"
   ]
  },
  {
   "cell_type": "code",
   "execution_count": 312,
   "metadata": {},
   "outputs": [],
   "source": [
    "\n",
    "import pandas as pd \n",
    "import numpy as np\n",
    "from sklearn.preprocessing import MinMaxScaler"
   ]
  },
  {
   "cell_type": "code",
   "execution_count": 313,
   "metadata": {},
   "outputs": [],
   "source": [
    "XTrain = pd.read_csv(\"Train_Data.csv\")\n",
    "XTest = pd.read_csv(\"Test_Data.csv\")\n",
    "# XTrain.head()"
   ]
  },
  {
   "cell_type": "code",
   "execution_count": 314,
   "metadata": {},
   "outputs": [],
   "source": [
    "# XTest"
   ]
  },
  {
   "cell_type": "code",
   "execution_count": 315,
   "metadata": {},
   "outputs": [],
   "source": [
    "XTrain =XTrain.fillna(0)\n",
    "XTest = XTest.fillna(0)\n"
   ]
  },
  {
   "cell_type": "code",
   "execution_count": 316,
   "metadata": {},
   "outputs": [
    {
     "name": "stdout",
     "output_type": "stream",
     "text": [
      "(360, 80)\n"
     ]
    }
   ],
   "source": [
    "print(XTest.shape)"
   ]
  },
  {
   "cell_type": "code",
   "execution_count": 317,
   "metadata": {},
   "outputs": [],
   "source": [
    "test = XTest"
   ]
  },
  {
   "cell_type": "code",
   "execution_count": 318,
   "metadata": {},
   "outputs": [],
   "source": [
    "dataset = XTrain\n",
    "# print(dataset)\n",
    "Dataset = XTrain.drop('SalePrice',axis=1)"
   ]
  },
  {
   "cell_type": "code",
   "execution_count": 319,
   "metadata": {},
   "outputs": [
    {
     "name": "stdout",
     "output_type": "stream",
     "text": [
      "(1100, 80)\n"
     ]
    }
   ],
   "source": [
    "print(Dataset.shape)"
   ]
  },
  {
   "cell_type": "code",
   "execution_count": 320,
   "metadata": {},
   "outputs": [
    {
     "data": {
      "text/plain": [
       "(1100, 80)"
      ]
     },
     "execution_count": 320,
     "metadata": {},
     "output_type": "execute_result"
    }
   ],
   "source": [
    "train = dataset.drop('SalePrice',axis=1)\n",
    "train.shape"
   ]
  },
  {
   "cell_type": "code",
   "execution_count": 321,
   "metadata": {},
   "outputs": [
    {
     "data": {
      "text/plain": [
       "(1100, 1)"
      ]
     },
     "execution_count": 321,
     "metadata": {},
     "output_type": "execute_result"
    }
   ],
   "source": [
    "target =dataset['SalePrice']\n",
    "target = pd.DataFrame(target)\n",
    "target.shape"
   ]
  },
  {
   "cell_type": "code",
   "execution_count": 322,
   "metadata": {},
   "outputs": [],
   "source": [
    "Scalar = MinMaxScaler()"
   ]
  },
  {
   "cell_type": "code",
   "execution_count": 323,
   "metadata": {},
   "outputs": [],
   "source": [
    "train_objs_num = len(train)\n",
    "dataset = pd.concat(objs=[train, test], axis=0)\n",
    "dataset_preprocessed = pd.get_dummies(dataset)\n",
    "train = dataset_preprocessed[:train_objs_num]\n",
    "test = dataset_preprocessed[train_objs_num:]"
   ]
  },
  {
   "cell_type": "code",
   "execution_count": 324,
   "metadata": {},
   "outputs": [
    {
     "data": {
      "text/plain": [
       "(1100, 305)"
      ]
     },
     "execution_count": 324,
     "metadata": {},
     "output_type": "execute_result"
    }
   ],
   "source": [
    "train.shape"
   ]
  },
  {
   "cell_type": "code",
   "execution_count": 325,
   "metadata": {},
   "outputs": [
    {
     "data": {
      "text/plain": [
       "(360, 305)"
      ]
     },
     "execution_count": 325,
     "metadata": {},
     "output_type": "execute_result"
    }
   ],
   "source": [
    "test.shape"
   ]
  },
  {
   "cell_type": "code",
   "execution_count": 326,
   "metadata": {},
   "outputs": [],
   "source": [
    "# train"
   ]
  },
  {
   "cell_type": "code",
   "execution_count": null,
   "metadata": {},
   "outputs": [],
   "source": []
  },
  {
   "cell_type": "code",
   "execution_count": 327,
   "metadata": {},
   "outputs": [],
   "source": [
    "train = Scalar.fit_transform(train)\n",
    "test = Scalar.fit_transform(test)\n",
    "target = Scalar.fit_transform(target)"
   ]
  },
  {
   "cell_type": "code",
   "execution_count": 328,
   "metadata": {
    "code_folding": []
   },
   "outputs": [
    {
     "name": "stdout",
     "output_type": "stream",
     "text": [
      "(1100, 305)\n"
     ]
    }
   ],
   "source": [
    "print(train.shape)"
   ]
  },
  {
   "cell_type": "code",
   "execution_count": 329,
   "metadata": {},
   "outputs": [],
   "source": [
    "from sklearn.model_selection import train_test_split"
   ]
  },
  {
   "cell_type": "code",
   "execution_count": 691,
   "metadata": {},
   "outputs": [],
   "source": [
    "X_train,X_test,Y_train,Y_test = train_test_split(train,target,test_size = 0.2)"
   ]
  },
  {
   "cell_type": "code",
   "execution_count": 692,
   "metadata": {},
   "outputs": [
    {
     "data": {
      "text/plain": [
       "(880, 305)"
      ]
     },
     "execution_count": 692,
     "metadata": {},
     "output_type": "execute_result"
    }
   ],
   "source": [
    "X_train.shape"
   ]
  },
  {
   "cell_type": "code",
   "execution_count": 693,
   "metadata": {
    "code_folding": [
     0
    ]
   },
   "outputs": [],
   "source": [
    "# train_test_split()\n",
    "# Y_train.shape"
   ]
  },
  {
   "cell_type": "code",
   "execution_count": 694,
   "metadata": {},
   "outputs": [],
   "source": [
    "# Y_test"
   ]
  },
  {
   "cell_type": "code",
   "execution_count": 695,
   "metadata": {},
   "outputs": [
    {
     "data": {
      "text/plain": [
       "(220, 305)"
      ]
     },
     "execution_count": 695,
     "metadata": {},
     "output_type": "execute_result"
    }
   ],
   "source": [
    "X_test.shape"
   ]
  },
  {
   "cell_type": "code",
   "execution_count": 696,
   "metadata": {},
   "outputs": [
    {
     "name": "stdout",
     "output_type": "stream",
     "text": [
      "[[0.8744313  0.23529412 0.         ... 0.         1.         0.        ]\n",
      " [0.11373976 1.         0.19169329 ... 0.         1.         0.        ]\n",
      " [0.7133758  0.32352941 0.11182109 ... 0.         1.         0.        ]\n",
      " ...\n",
      " [0.91992721 0.41176471 0.23961661 ... 0.         1.         0.        ]\n",
      " [0.62966333 0.23529412 0.1341853  ... 0.         1.         0.        ]\n",
      " [0.40127389 0.41176471 0.29392971 ... 0.         1.         0.        ]]\n"
     ]
    }
   ],
   "source": [
    "# X_train =X_train.fillna(0)\n",
    "print(X_train)"
   ]
  },
  {
   "cell_type": "markdown",
   "metadata": {},
   "source": [
    "# model nn"
   ]
  },
  {
   "cell_type": "code",
   "execution_count": 717,
   "metadata": {},
   "outputs": [],
   "source": [
    "import keras\n",
    "from keras.layers import Activation"
   ]
  },
  {
   "cell_type": "code",
   "execution_count": 733,
   "metadata": {},
   "outputs": [],
   "source": [
    "from keras.models import Sequential\n",
    "from keras.layers import Dense\n",
    "from keras.metrics import mean_squared_logarithmic_error as men"
   ]
  },
  {
   "cell_type": "code",
   "execution_count": 745,
   "metadata": {
    "code_folding": []
   },
   "outputs": [],
   "source": [
    "def getModel():\n",
    "    model = Sequential()\n",
    "    model.add(Dense(16,activation = 'relu' ,input_shape = (305,)))\n",
    "    keras.layers.Dropout(0.2)\n",
    "    model.add(Dense(16,activation='relu'))\n",
    "#     keras.layers.Dropout(0.1)\n",
    "    \n",
    "    model.add(Dense(16,activation='relu'))\n",
    "    \n",
    "    \n",
    "    model.add(Dense(1,activation='relu'))\n",
    "    \n",
    "    model.compile(optimizer = 'adam',loss='mse',metrics=['mse'])\n",
    "    return model"
   ]
  },
  {
   "cell_type": "code",
   "execution_count": 746,
   "metadata": {},
   "outputs": [
    {
     "name": "stdout",
     "output_type": "stream",
     "text": [
      "_________________________________________________________________\n",
      "Layer (type)                 Output Shape              Param #   \n",
      "=================================================================\n",
      "dense_272 (Dense)            (None, 16)                4896      \n",
      "_________________________________________________________________\n",
      "dense_273 (Dense)            (None, 16)                272       \n",
      "_________________________________________________________________\n",
      "dense_274 (Dense)            (None, 16)                272       \n",
      "_________________________________________________________________\n",
      "dense_275 (Dense)            (None, 1)                 17        \n",
      "=================================================================\n",
      "Total params: 5,457\n",
      "Trainable params: 5,457\n",
      "Non-trainable params: 0\n",
      "_________________________________________________________________\n"
     ]
    }
   ],
   "source": [
    "model =getModel()\n",
    "model.summary()"
   ]
  },
  {
   "cell_type": "code",
   "execution_count": 747,
   "metadata": {},
   "outputs": [
    {
     "name": "stdout",
     "output_type": "stream",
     "text": [
      "Train on 880 samples, validate on 220 samples\n",
      "Epoch 1/30\n",
      "880/880 [==============================] - 6s 7ms/step - loss: 0.0147 - mean_squared_error: 0.0147 - val_loss: 0.0075 - val_mean_squared_error: 0.0075\n",
      "Epoch 2/30\n",
      "880/880 [==============================] - 0s 212us/step - loss: 0.0060 - mean_squared_error: 0.0060 - val_loss: 0.0048 - val_mean_squared_error: 0.0048\n",
      "Epoch 3/30\n",
      "880/880 [==============================] - 0s 228us/step - loss: 0.0041 - mean_squared_error: 0.0041 - val_loss: 0.0040 - val_mean_squared_error: 0.0040\n",
      "Epoch 4/30\n",
      "880/880 [==============================] - 0s 243us/step - loss: 0.0033 - mean_squared_error: 0.0033 - val_loss: 0.0035 - val_mean_squared_error: 0.0035\n",
      "Epoch 5/30\n",
      "880/880 [==============================] - 0s 244us/step - loss: 0.0028 - mean_squared_error: 0.0028 - val_loss: 0.0032 - val_mean_squared_error: 0.0032\n",
      "Epoch 6/30\n",
      "880/880 [==============================] - 0s 250us/step - loss: 0.0027 - mean_squared_error: 0.0027 - val_loss: 0.0033 - val_mean_squared_error: 0.0033\n",
      "Epoch 7/30\n",
      "880/880 [==============================] - 0s 244us/step - loss: 0.0022 - mean_squared_error: 0.0022 - val_loss: 0.0028 - val_mean_squared_error: 0.0028\n",
      "Epoch 8/30\n",
      "880/880 [==============================] - 0s 225us/step - loss: 0.0019 - mean_squared_error: 0.0019 - val_loss: 0.0028 - val_mean_squared_error: 0.0028\n",
      "Epoch 9/30\n",
      "880/880 [==============================] - 0s 248us/step - loss: 0.0016 - mean_squared_error: 0.0016 - val_loss: 0.0028 - val_mean_squared_error: 0.0028\n",
      "Epoch 10/30\n",
      "880/880 [==============================] - 0s 247us/step - loss: 0.0015 - mean_squared_error: 0.0015 - val_loss: 0.0027 - val_mean_squared_error: 0.0027\n",
      "Epoch 11/30\n",
      "880/880 [==============================] - 0s 247us/step - loss: 0.0014 - mean_squared_error: 0.0014 - val_loss: 0.0025 - val_mean_squared_error: 0.0025\n",
      "Epoch 12/30\n",
      "880/880 [==============================] - 0s 253us/step - loss: 0.0013 - mean_squared_error: 0.0013 - val_loss: 0.0025 - val_mean_squared_error: 0.0025\n",
      "Epoch 13/30\n",
      "880/880 [==============================] - 0s 219us/step - loss: 0.0011 - mean_squared_error: 0.0011 - val_loss: 0.0026 - val_mean_squared_error: 0.0026\n",
      "Epoch 14/30\n",
      "880/880 [==============================] - 0s 339us/step - loss: 0.0011 - mean_squared_error: 0.0011 - val_loss: 0.0029 - val_mean_squared_error: 0.0029\n",
      "Epoch 15/30\n",
      "880/880 [==============================] - 0s 344us/step - loss: 0.0010 - mean_squared_error: 0.0010 - val_loss: 0.0024 - val_mean_squared_error: 0.0024\n",
      "Epoch 16/30\n",
      "880/880 [==============================] - 0s 265us/step - loss: 9.7221e-04 - mean_squared_error: 9.7221e-04 - val_loss: 0.0024 - val_mean_squared_error: 0.0024\n",
      "Epoch 17/30\n",
      "880/880 [==============================] - 0s 226us/step - loss: 9.7842e-04 - mean_squared_error: 9.7842e-04 - val_loss: 0.0028 - val_mean_squared_error: 0.0028\n",
      "Epoch 18/30\n",
      "880/880 [==============================] - 0s 248us/step - loss: 8.5756e-04 - mean_squared_error: 8.5756e-04 - val_loss: 0.0024 - val_mean_squared_error: 0.0024\n",
      "Epoch 19/30\n",
      "880/880 [==============================] - 0s 227us/step - loss: 7.8753e-04 - mean_squared_error: 7.8753e-04 - val_loss: 0.0025 - val_mean_squared_error: 0.0025\n",
      "Epoch 20/30\n",
      "880/880 [==============================] - 0s 238us/step - loss: 7.6038e-04 - mean_squared_error: 7.6038e-04 - val_loss: 0.0026 - val_mean_squared_error: 0.0026\n",
      "Epoch 21/30\n",
      "880/880 [==============================] - 0s 282us/step - loss: 6.5560e-04 - mean_squared_error: 6.5560e-04 - val_loss: 0.0025 - val_mean_squared_error: 0.0025\n",
      "Epoch 22/30\n",
      "880/880 [==============================] - 0s 335us/step - loss: 5.9431e-04 - mean_squared_error: 5.9431e-04 - val_loss: 0.0024 - val_mean_squared_error: 0.0024\n",
      "Epoch 23/30\n",
      "880/880 [==============================] - 0s 330us/step - loss: 6.1976e-04 - mean_squared_error: 6.1976e-04 - val_loss: 0.0024 - val_mean_squared_error: 0.0024\n",
      "Epoch 24/30\n",
      "880/880 [==============================] - 0s 424us/step - loss: 5.3921e-04 - mean_squared_error: 5.3921e-04 - val_loss: 0.0024 - val_mean_squared_error: 0.0024\n",
      "Epoch 25/30\n",
      "880/880 [==============================] - 0s 362us/step - loss: 5.1651e-04 - mean_squared_error: 5.1651e-04 - val_loss: 0.0026 - val_mean_squared_error: 0.0026\n",
      "Epoch 26/30\n",
      "880/880 [==============================] - 0s 338us/step - loss: 5.0129e-04 - mean_squared_error: 5.0129e-04 - val_loss: 0.0024 - val_mean_squared_error: 0.0024\n",
      "Epoch 27/30\n",
      "880/880 [==============================] - 0s 328us/step - loss: 5.0148e-04 - mean_squared_error: 5.0148e-04 - val_loss: 0.0024 - val_mean_squared_error: 0.0024\n",
      "Epoch 28/30\n",
      "880/880 [==============================] - 0s 352us/step - loss: 4.7612e-04 - mean_squared_error: 4.7612e-04 - val_loss: 0.0024 - val_mean_squared_error: 0.0024\n",
      "Epoch 29/30\n",
      "880/880 [==============================] - 0s 261us/step - loss: 4.8282e-04 - mean_squared_error: 4.8282e-04 - val_loss: 0.0025 - val_mean_squared_error: 0.0025\n",
      "Epoch 30/30\n",
      "880/880 [==============================] - 0s 323us/step - loss: 4.6635e-04 - mean_squared_error: 4.6635e-04 - val_loss: 0.0025 - val_mean_squared_error: 0.0025\n"
     ]
    }
   ],
   "source": [
    "hist = model.fit(X_train,Y_train,epochs=30,validation_data=(X_test,Y_test),shuffle=True,verbose =1)\n"
   ]
  },
  {
   "cell_type": "code",
   "execution_count": 748,
   "metadata": {},
   "outputs": [],
   "source": [
    "mans = model.predict(test)\n",
    "mans = Scalar.inverse_transform(mans)"
   ]
  },
  {
   "cell_type": "code",
   "execution_count": 749,
   "metadata": {},
   "outputs": [],
   "source": [
    "Y_Pred=pd.DataFrame(mans,columns=['SalePrice'])\n",
    "Y_Pred.to_csv('Y_prednew.csv',index=True,index_label =['Id'])"
   ]
  },
  {
   "cell_type": "code",
   "execution_count": 750,
   "metadata": {},
   "outputs": [],
   "source": [
    "newt = pd.read_csv('Y_prednew.csv')\n",
    "# newt.head()\n",
    "\n",
    "newt[\"Id\"] = newt[\"Id\"] + 1101"
   ]
  },
  {
   "cell_type": "code",
   "execution_count": 751,
   "metadata": {},
   "outputs": [],
   "source": [
    "Y_Pred=pd.DataFrame(newt)\n",
    "Y_Pred.to_csv('newaa.csv',index = False)"
   ]
  },
  {
   "cell_type": "code",
   "execution_count": 752,
   "metadata": {},
   "outputs": [
    {
     "data": {
      "text/html": [
       "<div>\n",
       "<style scoped>\n",
       "    .dataframe tbody tr th:only-of-type {\n",
       "        vertical-align: middle;\n",
       "    }\n",
       "\n",
       "    .dataframe tbody tr th {\n",
       "        vertical-align: top;\n",
       "    }\n",
       "\n",
       "    .dataframe thead th {\n",
       "        text-align: right;\n",
       "    }\n",
       "</style>\n",
       "<table border=\"1\" class=\"dataframe\">\n",
       "  <thead>\n",
       "    <tr style=\"text-align: right;\">\n",
       "      <th></th>\n",
       "      <th>Id</th>\n",
       "      <th>SalePrice</th>\n",
       "    </tr>\n",
       "  </thead>\n",
       "  <tbody>\n",
       "    <tr>\n",
       "      <th>0</th>\n",
       "      <td>1101</td>\n",
       "      <td>84917.29</td>\n",
       "    </tr>\n",
       "    <tr>\n",
       "      <th>1</th>\n",
       "      <td>1102</td>\n",
       "      <td>97223.28</td>\n",
       "    </tr>\n",
       "    <tr>\n",
       "      <th>2</th>\n",
       "      <td>1103</td>\n",
       "      <td>105916.57</td>\n",
       "    </tr>\n",
       "    <tr>\n",
       "      <th>3</th>\n",
       "      <td>1104</td>\n",
       "      <td>213036.33</td>\n",
       "    </tr>\n",
       "    <tr>\n",
       "      <th>4</th>\n",
       "      <td>1105</td>\n",
       "      <td>79304.04</td>\n",
       "    </tr>\n",
       "  </tbody>\n",
       "</table>\n",
       "</div>"
      ],
      "text/plain": [
       "     Id  SalePrice\n",
       "0  1101   84917.29\n",
       "1  1102   97223.28\n",
       "2  1103  105916.57\n",
       "3  1104  213036.33\n",
       "4  1105   79304.04"
      ]
     },
     "execution_count": 752,
     "metadata": {},
     "output_type": "execute_result"
    }
   ],
   "source": [
    "answer = pd.read_csv('newaa.csv')\n",
    "answer.head()"
   ]
  },
  {
   "cell_type": "code",
   "execution_count": null,
   "metadata": {},
   "outputs": [],
   "source": []
  },
  {
   "cell_type": "code",
   "execution_count": null,
   "metadata": {},
   "outputs": [],
   "source": []
  },
  {
   "cell_type": "code",
   "execution_count": null,
   "metadata": {},
   "outputs": [],
   "source": []
  },
  {
   "cell_type": "code",
   "execution_count": null,
   "metadata": {},
   "outputs": [],
   "source": []
  },
  {
   "cell_type": "code",
   "execution_count": null,
   "metadata": {},
   "outputs": [],
   "source": []
  },
  {
   "cell_type": "code",
   "execution_count": null,
   "metadata": {},
   "outputs": [],
   "source": []
  },
  {
   "cell_type": "code",
   "execution_count": null,
   "metadata": {},
   "outputs": [],
   "source": []
  },
  {
   "cell_type": "code",
   "execution_count": null,
   "metadata": {},
   "outputs": [],
   "source": [
    "# keras.layers.Dropout(0.2)\n",
    "#     model.add(Dense(32,activation = 'relu'))\n",
    "#     keras.layers.Dropout(0.5)\n",
    "#     model.add(Dense(16,activation = 'sigmoid'))\n",
    "#     keras.layers.Dropout(0.5)\n",
    "#     model.add(Dense(10,activation = 'sigmoid'))\n",
    "#     keras.layers.Dropout(0.5)\n",
    "#     model.add(Dense(8,activation = 'sigmoid'))\n",
    "#     keras.layers.Dropout(0.5)\n",
    "#     model.add(Dense(5,activation = 'sigmoid'))\n",
    "# # #     keras.layers.Dropout(0.5)\n",
    "    \n",
    "    "
   ]
  }
 ],
 "metadata": {
  "kernelspec": {
   "display_name": "Python 3",
   "language": "python",
   "name": "python3"
  },
  "language_info": {
   "codemirror_mode": {
    "name": "ipython",
    "version": 3
   },
   "file_extension": ".py",
   "mimetype": "text/x-python",
   "name": "python",
   "nbconvert_exporter": "python",
   "pygments_lexer": "ipython3",
   "version": "3.7.4"
  }
 },
 "nbformat": 4,
 "nbformat_minor": 2
}
